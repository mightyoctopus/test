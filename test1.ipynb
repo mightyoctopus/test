{
  "nbformat": 4,
  "nbformat_minor": 0,
  "metadata": {
    "colab": {
      "provenance": [],
      "authorship_tag": "ABX9TyNUc0Y/cBz5HzmNr3392xiZ",
      "include_colab_link": true
    },
    "kernelspec": {
      "name": "python3",
      "display_name": "Python 3"
    },
    "language_info": {
      "name": "python"
    }
  },
  "cells": [
    {
      "cell_type": "markdown",
      "metadata": {
        "id": "view-in-github",
        "colab_type": "text"
      },
      "source": [
        "<a href=\"https://colab.research.google.com/github/mightyoctopus/test/blob/main/test1.ipynb\" target=\"_parent\"><img src=\"https://colab.research.google.com/assets/colab-badge.svg\" alt=\"Open In Colab\"/></a>"
      ]
    },
    {
      "cell_type": "code",
      "execution_count": null,
      "metadata": {
        "id": "ZdEU-e0BGCRx"
      },
      "outputs": [],
      "source": [
        "# test"
      ]
    },
    {
      "cell_type": "code",
      "source": [
        "import pytorch"
      ],
      "metadata": {
        "id": "Dj6L_T84GLxW"
      },
      "execution_count": null,
      "outputs": []
    }
  ]
}